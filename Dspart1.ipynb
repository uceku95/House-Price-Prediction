{
  "nbformat": 4,
  "nbformat_minor": 0,
  "metadata": {
    "colab": {
      "provenance": [],
      "authorship_tag": "ABX9TyM+C3C0r315Muf3SVj1JYWQ",
      "include_colab_link": true
    },
    "kernelspec": {
      "name": "python3",
      "display_name": "Python 3"
    },
    "language_info": {
      "name": "python"
    }
  },
  "cells": [
    {
      "cell_type": "markdown",
      "metadata": {
        "id": "view-in-github",
        "colab_type": "text"
      },
      "source": [
        "<a href=\"https://colab.research.google.com/github/uceku95/House-price-prediction/blob/main/Dspart1.ipynb\" target=\"_parent\"><img src=\"https://colab.research.google.com/assets/colab-badge.svg\" alt=\"Open In Colab\"/></a>"
      ]
    },
    {
      "cell_type": "markdown",
      "source": [],
      "metadata": {
        "id": "1HXwnqiFtnYe"
      }
    },
    {
      "cell_type": "markdown",
      "source": [
        "**HOUSE PRICE PREDICTION**"
      ],
      "metadata": {
        "id": "hnIg9f1DtqGt"
      }
    },
    {
      "cell_type": "markdown",
      "source": [
        " **Importing Libraries**"
      ],
      "metadata": {
        "id": "CSVh3O3ESXZT"
      }
    },
    {
      "cell_type": "code",
      "source": [
        "import numpy as np\n",
        "import pandas as pd\n",
        "import matplotlib.pyplot as plt\n",
        "import seaborn as sns\n",
        "from sklearn.model_selection import train_test_split"
      ],
      "metadata": {
        "id": "MyKRJk7Ttxsp"
      },
      "execution_count": null,
      "outputs": []
    },
    {
      "cell_type": "markdown",
      "source": [
        "**Reading the dataset**"
      ],
      "metadata": {
        "id": "mAxB2lIlunBQ"
      }
    },
    {
      "cell_type": "code",
      "source": [
        "df = pd.read_excel(\"/content/DS - Assignment Part 1 data set.xlsx\")"
      ],
      "metadata": {
        "id": "ETiSkTZHt7uN"
      },
      "execution_count": null,
      "outputs": []
    },
    {
      "cell_type": "markdown",
      "source": [
        "**\"df.head()\" for showing first 5 elements of the dataset**"
      ],
      "metadata": {
        "id": "DyoNN4DAu2qn"
      }
    },
    {
      "cell_type": "code",
      "source": [
        "df.head()"
      ],
      "metadata": {
        "colab": {
          "base_uri": "https://localhost:8080/",
          "height": 267
        },
        "id": "eJOSkom5uUR3",
        "outputId": "7861fbb1-f27c-470d-c658-efa7e1e4d164"
      },
      "execution_count": null,
      "outputs": [
        {
          "output_type": "execute_result",
          "data": {
            "text/plain": [
              "   Transaction date  House Age  Distance from nearest Metro station (km)  \\\n",
              "0       2012.916667       32.0                                  84.87882   \n",
              "1       2012.916667       19.5                                 306.59470   \n",
              "2       2013.583333       13.3                                 561.98450   \n",
              "3       2013.500000       13.3                                 561.98450   \n",
              "4       2012.833333        5.0                                 390.56840   \n",
              "\n",
              "   Number of convenience stores  latitude  longitude  Number of bedrooms  \\\n",
              "0                            10  24.98298  121.54024                   1   \n",
              "1                             9  24.98034  121.53951                   2   \n",
              "2                             5  24.98746  121.54391                   3   \n",
              "3                             5  24.98746  121.54391                   2   \n",
              "4                             5  24.97937  121.54245                   1   \n",
              "\n",
              "   House size (sqft)  House price of unit area  \n",
              "0                575                      37.9  \n",
              "1               1240                      42.2  \n",
              "2               1060                      47.3  \n",
              "3                875                      54.8  \n",
              "4                491                      43.1  "
            ],
            "text/html": [
              "\n",
              "  <div id=\"df-5690d661-faef-4487-8ea0-11553971847d\">\n",
              "    <div class=\"colab-df-container\">\n",
              "      <div>\n",
              "<style scoped>\n",
              "    .dataframe tbody tr th:only-of-type {\n",
              "        vertical-align: middle;\n",
              "    }\n",
              "\n",
              "    .dataframe tbody tr th {\n",
              "        vertical-align: top;\n",
              "    }\n",
              "\n",
              "    .dataframe thead th {\n",
              "        text-align: right;\n",
              "    }\n",
              "</style>\n",
              "<table border=\"1\" class=\"dataframe\">\n",
              "  <thead>\n",
              "    <tr style=\"text-align: right;\">\n",
              "      <th></th>\n",
              "      <th>Transaction date</th>\n",
              "      <th>House Age</th>\n",
              "      <th>Distance from nearest Metro station (km)</th>\n",
              "      <th>Number of convenience stores</th>\n",
              "      <th>latitude</th>\n",
              "      <th>longitude</th>\n",
              "      <th>Number of bedrooms</th>\n",
              "      <th>House size (sqft)</th>\n",
              "      <th>House price of unit area</th>\n",
              "    </tr>\n",
              "  </thead>\n",
              "  <tbody>\n",
              "    <tr>\n",
              "      <th>0</th>\n",
              "      <td>2012.916667</td>\n",
              "      <td>32.0</td>\n",
              "      <td>84.87882</td>\n",
              "      <td>10</td>\n",
              "      <td>24.98298</td>\n",
              "      <td>121.54024</td>\n",
              "      <td>1</td>\n",
              "      <td>575</td>\n",
              "      <td>37.9</td>\n",
              "    </tr>\n",
              "    <tr>\n",
              "      <th>1</th>\n",
              "      <td>2012.916667</td>\n",
              "      <td>19.5</td>\n",
              "      <td>306.59470</td>\n",
              "      <td>9</td>\n",
              "      <td>24.98034</td>\n",
              "      <td>121.53951</td>\n",
              "      <td>2</td>\n",
              "      <td>1240</td>\n",
              "      <td>42.2</td>\n",
              "    </tr>\n",
              "    <tr>\n",
              "      <th>2</th>\n",
              "      <td>2013.583333</td>\n",
              "      <td>13.3</td>\n",
              "      <td>561.98450</td>\n",
              "      <td>5</td>\n",
              "      <td>24.98746</td>\n",
              "      <td>121.54391</td>\n",
              "      <td>3</td>\n",
              "      <td>1060</td>\n",
              "      <td>47.3</td>\n",
              "    </tr>\n",
              "    <tr>\n",
              "      <th>3</th>\n",
              "      <td>2013.500000</td>\n",
              "      <td>13.3</td>\n",
              "      <td>561.98450</td>\n",
              "      <td>5</td>\n",
              "      <td>24.98746</td>\n",
              "      <td>121.54391</td>\n",
              "      <td>2</td>\n",
              "      <td>875</td>\n",
              "      <td>54.8</td>\n",
              "    </tr>\n",
              "    <tr>\n",
              "      <th>4</th>\n",
              "      <td>2012.833333</td>\n",
              "      <td>5.0</td>\n",
              "      <td>390.56840</td>\n",
              "      <td>5</td>\n",
              "      <td>24.97937</td>\n",
              "      <td>121.54245</td>\n",
              "      <td>1</td>\n",
              "      <td>491</td>\n",
              "      <td>43.1</td>\n",
              "    </tr>\n",
              "  </tbody>\n",
              "</table>\n",
              "</div>\n",
              "      <button class=\"colab-df-convert\" onclick=\"convertToInteractive('df-5690d661-faef-4487-8ea0-11553971847d')\"\n",
              "              title=\"Convert this dataframe to an interactive table.\"\n",
              "              style=\"display:none;\">\n",
              "        \n",
              "  <svg xmlns=\"http://www.w3.org/2000/svg\" height=\"24px\"viewBox=\"0 0 24 24\"\n",
              "       width=\"24px\">\n",
              "    <path d=\"M0 0h24v24H0V0z\" fill=\"none\"/>\n",
              "    <path d=\"M18.56 5.44l.94 2.06.94-2.06 2.06-.94-2.06-.94-.94-2.06-.94 2.06-2.06.94zm-11 1L8.5 8.5l.94-2.06 2.06-.94-2.06-.94L8.5 2.5l-.94 2.06-2.06.94zm10 10l.94 2.06.94-2.06 2.06-.94-2.06-.94-.94-2.06-.94 2.06-2.06.94z\"/><path d=\"M17.41 7.96l-1.37-1.37c-.4-.4-.92-.59-1.43-.59-.52 0-1.04.2-1.43.59L10.3 9.45l-7.72 7.72c-.78.78-.78 2.05 0 2.83L4 21.41c.39.39.9.59 1.41.59.51 0 1.02-.2 1.41-.59l7.78-7.78 2.81-2.81c.8-.78.8-2.07 0-2.86zM5.41 20L4 18.59l7.72-7.72 1.47 1.35L5.41 20z\"/>\n",
              "  </svg>\n",
              "      </button>\n",
              "      \n",
              "  <style>\n",
              "    .colab-df-container {\n",
              "      display:flex;\n",
              "      flex-wrap:wrap;\n",
              "      gap: 12px;\n",
              "    }\n",
              "\n",
              "    .colab-df-convert {\n",
              "      background-color: #E8F0FE;\n",
              "      border: none;\n",
              "      border-radius: 50%;\n",
              "      cursor: pointer;\n",
              "      display: none;\n",
              "      fill: #1967D2;\n",
              "      height: 32px;\n",
              "      padding: 0 0 0 0;\n",
              "      width: 32px;\n",
              "    }\n",
              "\n",
              "    .colab-df-convert:hover {\n",
              "      background-color: #E2EBFA;\n",
              "      box-shadow: 0px 1px 2px rgba(60, 64, 67, 0.3), 0px 1px 3px 1px rgba(60, 64, 67, 0.15);\n",
              "      fill: #174EA6;\n",
              "    }\n",
              "\n",
              "    [theme=dark] .colab-df-convert {\n",
              "      background-color: #3B4455;\n",
              "      fill: #D2E3FC;\n",
              "    }\n",
              "\n",
              "    [theme=dark] .colab-df-convert:hover {\n",
              "      background-color: #434B5C;\n",
              "      box-shadow: 0px 1px 3px 1px rgba(0, 0, 0, 0.15);\n",
              "      filter: drop-shadow(0px 1px 2px rgba(0, 0, 0, 0.3));\n",
              "      fill: #FFFFFF;\n",
              "    }\n",
              "  </style>\n",
              "\n",
              "      <script>\n",
              "        const buttonEl =\n",
              "          document.querySelector('#df-5690d661-faef-4487-8ea0-11553971847d button.colab-df-convert');\n",
              "        buttonEl.style.display =\n",
              "          google.colab.kernel.accessAllowed ? 'block' : 'none';\n",
              "\n",
              "        async function convertToInteractive(key) {\n",
              "          const element = document.querySelector('#df-5690d661-faef-4487-8ea0-11553971847d');\n",
              "          const dataTable =\n",
              "            await google.colab.kernel.invokeFunction('convertToInteractive',\n",
              "                                                     [key], {});\n",
              "          if (!dataTable) return;\n",
              "\n",
              "          const docLinkHtml = 'Like what you see? Visit the ' +\n",
              "            '<a target=\"_blank\" href=https://colab.research.google.com/notebooks/data_table.ipynb>data table notebook</a>'\n",
              "            + ' to learn more about interactive tables.';\n",
              "          element.innerHTML = '';\n",
              "          dataTable['output_type'] = 'display_data';\n",
              "          await google.colab.output.renderOutput(dataTable, element);\n",
              "          const docLink = document.createElement('div');\n",
              "          docLink.innerHTML = docLinkHtml;\n",
              "          element.appendChild(docLink);\n",
              "        }\n",
              "      </script>\n",
              "    </div>\n",
              "  </div>\n",
              "  "
            ]
          },
          "metadata": {},
          "execution_count": 99
        }
      ]
    },
    {
      "cell_type": "markdown",
      "source": [
        "**\"df.tail()\" for showing last 5 elements of the dataset**"
      ],
      "metadata": {
        "id": "yS0FIdWkvFkG"
      }
    },
    {
      "cell_type": "code",
      "source": [
        "df.tail()"
      ],
      "metadata": {
        "colab": {
          "base_uri": "https://localhost:8080/",
          "height": 267
        },
        "id": "J2bGcQScuf41",
        "outputId": "4fac0eda-6b34-490a-8384-62438a805f31"
      },
      "execution_count": null,
      "outputs": [
        {
          "output_type": "execute_result",
          "data": {
            "text/plain": [
              "     Transaction date  House Age  Distance from nearest Metro station (km)  \\\n",
              "409       2013.000000       13.7                                4082.01500   \n",
              "410       2012.666667        5.6                                  90.45606   \n",
              "411       2013.250000       18.8                                 390.96960   \n",
              "412       2013.000000        8.1                                 104.81010   \n",
              "413       2013.500000        6.5                                  90.45606   \n",
              "\n",
              "     Number of convenience stores  latitude  longitude  Number of bedrooms  \\\n",
              "409                             0  24.94155  121.50381                   3   \n",
              "410                             9  24.97433  121.54310                   2   \n",
              "411                             7  24.97923  121.53986                   1   \n",
              "412                             5  24.96674  121.54067                   1   \n",
              "413                             9  24.97433  121.54310                   2   \n",
              "\n",
              "     House size (sqft)  House price of unit area  \n",
              "409                803                      15.4  \n",
              "410               1278                      50.0  \n",
              "411                503                      40.6  \n",
              "412                597                      52.5  \n",
              "413               1097                      63.9  "
            ],
            "text/html": [
              "\n",
              "  <div id=\"df-129bfacf-287c-4e90-afc0-1160ca662ae8\">\n",
              "    <div class=\"colab-df-container\">\n",
              "      <div>\n",
              "<style scoped>\n",
              "    .dataframe tbody tr th:only-of-type {\n",
              "        vertical-align: middle;\n",
              "    }\n",
              "\n",
              "    .dataframe tbody tr th {\n",
              "        vertical-align: top;\n",
              "    }\n",
              "\n",
              "    .dataframe thead th {\n",
              "        text-align: right;\n",
              "    }\n",
              "</style>\n",
              "<table border=\"1\" class=\"dataframe\">\n",
              "  <thead>\n",
              "    <tr style=\"text-align: right;\">\n",
              "      <th></th>\n",
              "      <th>Transaction date</th>\n",
              "      <th>House Age</th>\n",
              "      <th>Distance from nearest Metro station (km)</th>\n",
              "      <th>Number of convenience stores</th>\n",
              "      <th>latitude</th>\n",
              "      <th>longitude</th>\n",
              "      <th>Number of bedrooms</th>\n",
              "      <th>House size (sqft)</th>\n",
              "      <th>House price of unit area</th>\n",
              "    </tr>\n",
              "  </thead>\n",
              "  <tbody>\n",
              "    <tr>\n",
              "      <th>409</th>\n",
              "      <td>2013.000000</td>\n",
              "      <td>13.7</td>\n",
              "      <td>4082.01500</td>\n",
              "      <td>0</td>\n",
              "      <td>24.94155</td>\n",
              "      <td>121.50381</td>\n",
              "      <td>3</td>\n",
              "      <td>803</td>\n",
              "      <td>15.4</td>\n",
              "    </tr>\n",
              "    <tr>\n",
              "      <th>410</th>\n",
              "      <td>2012.666667</td>\n",
              "      <td>5.6</td>\n",
              "      <td>90.45606</td>\n",
              "      <td>9</td>\n",
              "      <td>24.97433</td>\n",
              "      <td>121.54310</td>\n",
              "      <td>2</td>\n",
              "      <td>1278</td>\n",
              "      <td>50.0</td>\n",
              "    </tr>\n",
              "    <tr>\n",
              "      <th>411</th>\n",
              "      <td>2013.250000</td>\n",
              "      <td>18.8</td>\n",
              "      <td>390.96960</td>\n",
              "      <td>7</td>\n",
              "      <td>24.97923</td>\n",
              "      <td>121.53986</td>\n",
              "      <td>1</td>\n",
              "      <td>503</td>\n",
              "      <td>40.6</td>\n",
              "    </tr>\n",
              "    <tr>\n",
              "      <th>412</th>\n",
              "      <td>2013.000000</td>\n",
              "      <td>8.1</td>\n",
              "      <td>104.81010</td>\n",
              "      <td>5</td>\n",
              "      <td>24.96674</td>\n",
              "      <td>121.54067</td>\n",
              "      <td>1</td>\n",
              "      <td>597</td>\n",
              "      <td>52.5</td>\n",
              "    </tr>\n",
              "    <tr>\n",
              "      <th>413</th>\n",
              "      <td>2013.500000</td>\n",
              "      <td>6.5</td>\n",
              "      <td>90.45606</td>\n",
              "      <td>9</td>\n",
              "      <td>24.97433</td>\n",
              "      <td>121.54310</td>\n",
              "      <td>2</td>\n",
              "      <td>1097</td>\n",
              "      <td>63.9</td>\n",
              "    </tr>\n",
              "  </tbody>\n",
              "</table>\n",
              "</div>\n",
              "      <button class=\"colab-df-convert\" onclick=\"convertToInteractive('df-129bfacf-287c-4e90-afc0-1160ca662ae8')\"\n",
              "              title=\"Convert this dataframe to an interactive table.\"\n",
              "              style=\"display:none;\">\n",
              "        \n",
              "  <svg xmlns=\"http://www.w3.org/2000/svg\" height=\"24px\"viewBox=\"0 0 24 24\"\n",
              "       width=\"24px\">\n",
              "    <path d=\"M0 0h24v24H0V0z\" fill=\"none\"/>\n",
              "    <path d=\"M18.56 5.44l.94 2.06.94-2.06 2.06-.94-2.06-.94-.94-2.06-.94 2.06-2.06.94zm-11 1L8.5 8.5l.94-2.06 2.06-.94-2.06-.94L8.5 2.5l-.94 2.06-2.06.94zm10 10l.94 2.06.94-2.06 2.06-.94-2.06-.94-.94-2.06-.94 2.06-2.06.94z\"/><path d=\"M17.41 7.96l-1.37-1.37c-.4-.4-.92-.59-1.43-.59-.52 0-1.04.2-1.43.59L10.3 9.45l-7.72 7.72c-.78.78-.78 2.05 0 2.83L4 21.41c.39.39.9.59 1.41.59.51 0 1.02-.2 1.41-.59l7.78-7.78 2.81-2.81c.8-.78.8-2.07 0-2.86zM5.41 20L4 18.59l7.72-7.72 1.47 1.35L5.41 20z\"/>\n",
              "  </svg>\n",
              "      </button>\n",
              "      \n",
              "  <style>\n",
              "    .colab-df-container {\n",
              "      display:flex;\n",
              "      flex-wrap:wrap;\n",
              "      gap: 12px;\n",
              "    }\n",
              "\n",
              "    .colab-df-convert {\n",
              "      background-color: #E8F0FE;\n",
              "      border: none;\n",
              "      border-radius: 50%;\n",
              "      cursor: pointer;\n",
              "      display: none;\n",
              "      fill: #1967D2;\n",
              "      height: 32px;\n",
              "      padding: 0 0 0 0;\n",
              "      width: 32px;\n",
              "    }\n",
              "\n",
              "    .colab-df-convert:hover {\n",
              "      background-color: #E2EBFA;\n",
              "      box-shadow: 0px 1px 2px rgba(60, 64, 67, 0.3), 0px 1px 3px 1px rgba(60, 64, 67, 0.15);\n",
              "      fill: #174EA6;\n",
              "    }\n",
              "\n",
              "    [theme=dark] .colab-df-convert {\n",
              "      background-color: #3B4455;\n",
              "      fill: #D2E3FC;\n",
              "    }\n",
              "\n",
              "    [theme=dark] .colab-df-convert:hover {\n",
              "      background-color: #434B5C;\n",
              "      box-shadow: 0px 1px 3px 1px rgba(0, 0, 0, 0.15);\n",
              "      filter: drop-shadow(0px 1px 2px rgba(0, 0, 0, 0.3));\n",
              "      fill: #FFFFFF;\n",
              "    }\n",
              "  </style>\n",
              "\n",
              "      <script>\n",
              "        const buttonEl =\n",
              "          document.querySelector('#df-129bfacf-287c-4e90-afc0-1160ca662ae8 button.colab-df-convert');\n",
              "        buttonEl.style.display =\n",
              "          google.colab.kernel.accessAllowed ? 'block' : 'none';\n",
              "\n",
              "        async function convertToInteractive(key) {\n",
              "          const element = document.querySelector('#df-129bfacf-287c-4e90-afc0-1160ca662ae8');\n",
              "          const dataTable =\n",
              "            await google.colab.kernel.invokeFunction('convertToInteractive',\n",
              "                                                     [key], {});\n",
              "          if (!dataTable) return;\n",
              "\n",
              "          const docLinkHtml = 'Like what you see? Visit the ' +\n",
              "            '<a target=\"_blank\" href=https://colab.research.google.com/notebooks/data_table.ipynb>data table notebook</a>'\n",
              "            + ' to learn more about interactive tables.';\n",
              "          element.innerHTML = '';\n",
              "          dataTable['output_type'] = 'display_data';\n",
              "          await google.colab.output.renderOutput(dataTable, element);\n",
              "          const docLink = document.createElement('div');\n",
              "          docLink.innerHTML = docLinkHtml;\n",
              "          element.appendChild(docLink);\n",
              "        }\n",
              "      </script>\n",
              "    </div>\n",
              "  </div>\n",
              "  "
            ]
          },
          "metadata": {},
          "execution_count": 100
        }
      ]
    },
    {
      "cell_type": "markdown",
      "source": [
        "**\"df.shape\" for showing number of rows and columns in the dataset**"
      ],
      "metadata": {
        "id": "rUz4lU3xwIYm"
      }
    },
    {
      "cell_type": "code",
      "source": [
        "df.shape"
      ],
      "metadata": {
        "colab": {
          "base_uri": "https://localhost:8080/"
        },
        "id": "2LZBkuHxvSf2",
        "outputId": "d4463bf8-3979-4cb9-89aa-8a3d70e2b18c"
      },
      "execution_count": null,
      "outputs": [
        {
          "output_type": "execute_result",
          "data": {
            "text/plain": [
              "(414, 9)"
            ]
          },
          "metadata": {},
          "execution_count": 101
        }
      ]
    },
    {
      "cell_type": "markdown",
      "source": [
        "**Data Visualization**\n",
        "\n"
      ],
      "metadata": {
        "id": "RR6wEyHyzxzv"
      }
    },
    {
      "cell_type": "code",
      "source": [
        "sns.distplot(df['House price of unit area'])"
      ],
      "metadata": {
        "colab": {
          "base_uri": "https://localhost:8080/",
          "height": 351
        },
        "id": "6W00siovKFxX",
        "outputId": "ef0b041c-4d20-4171-9684-0d8cebcad59b"
      },
      "execution_count": null,
      "outputs": [
        {
          "output_type": "stream",
          "name": "stderr",
          "text": [
            "/usr/local/lib/python3.7/dist-packages/seaborn/distributions.py:2619: FutureWarning: `distplot` is a deprecated function and will be removed in a future version. Please adapt your code to use either `displot` (a figure-level function with similar flexibility) or `histplot` (an axes-level function for histograms).\n",
            "  warnings.warn(msg, FutureWarning)\n"
          ]
        },
        {
          "output_type": "execute_result",
          "data": {
            "text/plain": [
              "<matplotlib.axes._subplots.AxesSubplot at 0x7fd7066afa10>"
            ]
          },
          "metadata": {},
          "execution_count": 102
        },
        {
          "output_type": "display_data",
          "data": {
            "text/plain": [
              "<Figure size 432x288 with 1 Axes>"
            ],
            "image/png": "[encoded data removed]"
          },
          "metadata": {
            "needs_background": "light"
          }
        }
      ]
    },
    {
      "cell_type": "code",
      "source": [
        "plt.figure(figsize=(12, 6))\n",
        "sns.heatmap(df.corr(),cmap = 'Blues',\n",
        "            fmt = '.2f',\n",
        "            linewidths = 2,\n",
        "            annot = True)"
      ],
      "metadata": {
        "id": "R6pZB8XCwXcI",
        "colab": {
          "base_uri": "https://localhost:8080/",
          "height": 591
        },
        "outputId": "75af06aa-1a8d-48f1-857e-4372165afccb"
      },
      "execution_count": null,
      "outputs": [
        {
          "output_type": "execute_result",
          "data": {
            "text/plain": [
              "<matplotlib.axes._subplots.AxesSubplot at 0x7fd7066ab350>"
            ]
          },
          "metadata": {},
          "execution_count": 103
        },
        {
          "output_type": "display_data",
          "data": {
            "text/plain": [
              "<Figure size 864x432 with 2 Axes>"
            ],
            "image/png": "[encoded data removed]"
          },
          "metadata": {
            "needs_background": "light"
          }
        }
      ]
    },
    {
      "cell_type": "markdown",
      "source": [
        "**Data Cleaning**"
      ],
      "metadata": {
        "id": "L1cGnt08448i"
      }
    },
    {
      "cell_type": "code",
      "source": [
        "df.isnull().sum()"
      ],
      "metadata": {
        "colab": {
          "base_uri": "https://localhost:8080/"
        },
        "id": "fFTX15Y64NMo",
        "outputId": "a795c8ce-117a-4ebc-e9fe-073dfe295358"
      },
      "execution_count": null,
      "outputs": [
        {
          "output_type": "execute_result",
          "data": {
            "text/plain": [
              "Transaction date                            0\n",
              "House Age                                   0\n",
              "Distance from nearest Metro station (km)    0\n",
              "Number of convenience stores                0\n",
              "latitude                                    0\n",
              "longitude                                   0\n",
              "Number of bedrooms                          0\n",
              "House size (sqft)                           0\n",
              "House price of unit area                    0\n",
              "dtype: int64"
            ]
          },
          "metadata": {},
          "execution_count": 104
        }
      ]
    },
    {
      "cell_type": "code",
      "source": [
        "df.shape"
      ],
      "metadata": {
        "colab": {
          "base_uri": "https://localhost:8080/"
        },
        "id": "mUd--o3s41f4",
        "outputId": "2339d027-3cc2-4949-ed71-6ed82090db8b"
      },
      "execution_count": null,
      "outputs": [
        {
          "output_type": "execute_result",
          "data": {
            "text/plain": [
              "(414, 9)"
            ]
          },
          "metadata": {},
          "execution_count": 105
        }
      ]
    },
    {
      "cell_type": "markdown",
      "source": [
        "**Splitting the dataset for training and testing**"
      ],
      "metadata": {
        "id": "lxXynWTv9ROO"
      }
    },
    {
      "cell_type": "code",
      "source": [
        "x = df.iloc[:,:-1]\n",
        "y = df.iloc[:,-1]\n",
        "x_train, x_test, y_train, y_test = train_test_split(x, y, test_size = 0.20)"
      ],
      "metadata": {
        "id": "ysO-mooF5A0a"
      },
      "execution_count": null,
      "outputs": []
    },
    {
      "cell_type": "markdown",
      "source": [
        "**ACCURACY AND MEAN SQUARED ERROR**                                         "
      ],
      "metadata": {
        "id": "2TcrP6Jf9abW"
      }
    },
    {
      "cell_type": "markdown",
      "source": [
        "Mean Square error measures the average of squares of errors that is the average squared difference beween the actual values and predicted values.  \n",
        "                 ![image.png](data:image/png;base64,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)"
      ],
      "metadata": {
        "id": "508NtYXMF7uQ"
      }
    },
    {
      "cell_type": "markdown",
      "source": [
        "Finding the accuracy and prediction using **\"Random Forest Regressor\"**"
      ],
      "metadata": {
        "id": "2C131xk4AB-M"
      }
    },
    {
      "cell_type": "code",
      "source": [
        "from sklearn.ensemble import RandomForestRegressor\n",
        "from sklearn.metrics import mean_squared_error as MSE\n",
        "dt = RandomForestRegressor(criterion='absolute_error',n_jobs=-1, n_estimators=10,max_depth=6, min_samples_leaf=1, random_state=3)\n",
        "# fit the random forest to training data\n",
        "dt.fit(x_train,y_train)\n",
        "y_predicted = dt.predict(x_test)\n",
        "accuracy = dt.score(x_test,y_test)\n",
        "MSE_score = MSE(y_test,y_predicted)\n",
        "print(\"Training Accuracy:\",dt.score(x_train,y_train)*100)\n",
        "print(\"Testing Accuracy:\",accuracy*100)\n",
        "print(\"Mean Squared Error\",MSE_score.mean())"
      ],
      "metadata": {
        "colab": {
          "base_uri": "https://localhost:8080/"
        },
        "id": "FI_K38-u6cN4",
        "outputId": "1f2716f5-d83d-462c-eb81-564046ecd132"
      },
      "execution_count": null,
      "outputs": [
        {
          "output_type": "stream",
          "name": "stdout",
          "text": [
            "Training Accuracy: 86.64283841821532\n",
            "Testing Accuracy: 71.63837122447961\n",
            "Mean Squared Error 49.116335240963856\n"
          ]
        }
      ]
    },
    {
      "cell_type": "markdown",
      "source": [
        "Finding the accuracy and prediction using **\"Linear Regression\"**"
      ],
      "metadata": {
        "id": "bh-flxs4-daK"
      }
    },
    {
      "cell_type": "code",
      "source": [
        "from sklearn.linear_model import LinearRegression\n",
        "lr = LinearRegression()\n",
        "lr.fit(x_train,y_train)\n",
        "y_predicted = lr.predict(x_test)\n",
        "accuracy = lr.score(x_test,y_test)\n",
        "MSE_score = MSE(y_test,y_predicted)\n",
        "print(\"Training Accuracy:\",lr.score(x_train,y_train)*100)\n",
        "print(\"Testing Accuracy:\",accuracy*100)\n",
        "print(\"Mean Squared Error\",MSE_score.mean())\n"
      ],
      "metadata": {
        "colab": {
          "base_uri": "https://localhost:8080/"
        },
        "id": "j1fNzJ_Y94yw",
        "outputId": "52bf166d-4173-45ed-e828-39484400cc38"
      },
      "execution_count": null,
      "outputs": [
        {
          "output_type": "stream",
          "name": "stdout",
          "text": [
            "Training Accuracy: 58.627375236274744\n",
            "Testing Accuracy: 56.08482725005417\n",
            "Mean Squared Error 76.05177981924997\n"
          ]
        }
      ]
    },
    {
      "cell_type": "markdown",
      "source": [
        "Finding the accuracy and prediction using **\"Support Vector Regressor\"** of **\"Support Vector Machine\"**"
      ],
      "metadata": {
        "id": "1tQIbVYlAFN3"
      }
    },
    {
      "cell_type": "code",
      "source": [
        "from sklearn import svm\n",
        "from sklearn.svm import SVR\n",
        "s=svm.SVR()\n",
        "s.fit(x_train,y_train)\n",
        "y_predicted = s.predict(x_test)\n",
        "accuracy = s.score(x_test,y_test)\n",
        "MSE_score = MSE(y_test,y_predicted)\n",
        "print(\"Training Accuracy:\",lr.score(x_train,y_train)*100)\n",
        "print(\"Testing Accuracy:\",accuracy*100)\n",
        "print(\"Mean Squared Error\",MSE_score.mean())\n"
      ],
      "metadata": {
        "colab": {
          "base_uri": "https://localhost:8080/"
        },
        "id": "pnb4rInZ-o2X",
        "outputId": "bef0410c-5394-422d-fac3-6f6b110fe160"
      },
      "execution_count": null,
      "outputs": [
        {
          "output_type": "stream",
          "name": "stdout",
          "text": [
            "Training Accuracy: 58.627375236274744\n",
            "Testing Accuracy: 41.71426352163794\n",
            "Mean Squared Error 100.93855311683103\n"
          ]
        }
      ]
    },
    {
      "cell_type": "markdown",
      "source": [
        "**CONCLUSION**"
      ],
      "metadata": {
        "id": "i_hOWjEwSAr2"
      }
    },
    {
      "cell_type": "markdown",
      "source": [
        "From the above model, we can conclude that Random forest regressor gives the best accuracy which 86% and mean squared error is also less which is 49% when compared to SVR and Linear regression.\n",
        "\n"
      ],
      "metadata": {
        "id": "PnxDWxVaR9V_"
      }
    }
  ]
}